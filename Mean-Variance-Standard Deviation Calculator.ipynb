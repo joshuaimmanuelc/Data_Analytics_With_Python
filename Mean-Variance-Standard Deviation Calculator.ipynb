{
 "cells": [
  {
   "cell_type": "markdown",
   "id": "1a360ee1",
   "metadata": {},
   "source": [
    "# Python Data Analysis Series: Day 1!\n",
    "## Mean-Variance-Standard Deviation Calculator"
   ]
  },
  {
   "cell_type": "markdown",
   "id": "90c0669f",
   "metadata": {},
   "source": [
    "<img src = https://media.geeksforgeeks.org/wp-content/uploads/20230219213349/calculator.jpg width = \"1000\" height = \"100\" > "
   ]
  },
  {
   "cell_type": "markdown",
   "id": "acc8921a",
   "metadata": {},
   "source": [
    "### Problem statement:\n",
    "Create a function named calculate() that uses NumPy to output the mean, variance, standard deviation, max, min, and sum of the rows, columns, and elements in a 3x3 matrix"
   ]
  },
  {
   "cell_type": "markdown",
   "id": "cb45d9db",
   "metadata": {},
   "source": [
    "### Solution:"
   ]
  },
  {
   "cell_type": "code",
   "execution_count": 1,
   "id": "9dcacc48",
   "metadata": {},
   "outputs": [],
   "source": [
    "import numpy as np\n",
    "\n",
    "def calculate(list):\n",
    "    if len(list) == 9:\n",
    "        list = np.array(list).reshape(3,3)\n",
    "        results = {\n",
    "            'mean': [np.mean(list, axis=0).tolist(), \n",
    "                     np.mean(list, axis=1).tolist(), np.mean(list)],\n",
    "            'variance': [np.var(list, axis=0).tolist(), \n",
    "                         np.var(list, axis=1).tolist(), np.var(list)],\n",
    "            'standard deviation': [np.std(list, axis=0).tolist(), \n",
    "                                   np.std(list, axis=1).tolist(), np.std(list)],\n",
    "            'max': [np.max(list, axis=0).tolist(), \n",
    "                    np.max(list, axis=1).tolist(), np.max(list)],\n",
    "            'min': [np.min(list, axis=0).tolist(), \n",
    "                    np.min(list, axis=1).tolist(), np.min(list)],\n",
    "            'sum': [np.sum(list, axis=0).tolist(), \n",
    "                    np.sum(list, axis=1).tolist(), np.sum(list)]\n",
    "        }\n",
    "        \n",
    "        for key, value in results.items():\n",
    "            print(f'{key}:{value}')\n",
    "            \n",
    "    else:\n",
    "        print(\"List must contain nine numbers\")"
   ]
  },
  {
   "cell_type": "markdown",
   "id": "f9a3034a",
   "metadata": {},
   "source": [
    "### Output 1\n",
    "#### For list containing 9 elements:"
   ]
  },
  {
   "cell_type": "code",
   "execution_count": 2,
   "id": "2d481177",
   "metadata": {},
   "outputs": [
    {
     "name": "stdout",
     "output_type": "stream",
     "text": [
      "mean:[[4.0, 5.0, 6.0], [2.0, 5.0, 8.0], 5.0]\n",
      "variance:[[6.0, 6.0, 6.0], [0.6666666666666666, 0.6666666666666666, 0.6666666666666666], 6.666666666666667]\n",
      "standard deviation:[[2.449489742783178, 2.449489742783178, 2.449489742783178], [0.816496580927726, 0.816496580927726, 0.816496580927726], 2.581988897471611]\n",
      "max:[[7, 8, 9], [3, 6, 9], 9]\n",
      "min:[[1, 2, 3], [1, 4, 7], 1]\n",
      "sum:[[12, 15, 18], [6, 15, 24], 45]\n"
     ]
    }
   ],
   "source": [
    "List_1 = [1,2,3,4,5,6,7,8,9]\n",
    "calculate(List_1)"
   ]
  },
  {
   "cell_type": "markdown",
   "id": "6049d4d4",
   "metadata": {},
   "source": [
    "### Output 2\n",
    "#### For list containing more than 9 elements:"
   ]
  },
  {
   "cell_type": "code",
   "execution_count": 3,
   "id": "eb86bf0e",
   "metadata": {},
   "outputs": [
    {
     "name": "stdout",
     "output_type": "stream",
     "text": [
      "List must contain nine numbers\n"
     ]
    }
   ],
   "source": [
    "List_2 = [1,2,3,4,5,6,7,8,9,10]\n",
    "calculate(List_2)"
   ]
  },
  {
   "cell_type": "markdown",
   "id": "87653a44",
   "metadata": {},
   "source": [
    "### Output 3\n",
    "#### For list containing less than 9 elements:"
   ]
  },
  {
   "cell_type": "code",
   "execution_count": 4,
   "id": "998b12d5",
   "metadata": {},
   "outputs": [
    {
     "name": "stdout",
     "output_type": "stream",
     "text": [
      "List must contain nine numbers\n"
     ]
    }
   ],
   "source": [
    "List_3 = [1,2,3,4,5,6,7,8]\n",
    "calculate(List_3)"
   ]
  }
 ],
 "metadata": {
  "kernelspec": {
   "display_name": "Python 3 (ipykernel)",
   "language": "python",
   "name": "python3"
  },
  "language_info": {
   "codemirror_mode": {
    "name": "ipython",
    "version": 3
   },
   "file_extension": ".py",
   "mimetype": "text/x-python",
   "name": "python",
   "nbconvert_exporter": "python",
   "pygments_lexer": "ipython3",
   "version": "3.11.3"
  }
 },
 "nbformat": 4,
 "nbformat_minor": 5
}
