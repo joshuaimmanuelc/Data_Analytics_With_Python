{
 "cells": [
  {
   "cell_type": "markdown",
   "id": "1a360ee1",
   "metadata": {},
   "source": [
    "# Python Data Analysis Series: Day 3!\n",
    "## Medical Data Visualizer"
   ]
  },
  {
   "cell_type": "markdown",
   "id": "90c0669f",
   "metadata": {},
   "source": [
    "<img src = https://www.ispartnersllc.com/wp-content/uploads/interoperability-and-healthcare-compliance.jpg width = \"1000\" height = \"100\" > "
   ]
  },
  {
   "cell_type": "markdown",
   "id": "acc8921a",
   "metadata": {},
   "source": [
    "### Today's Challenge:\n",
    "In this project, we will explore medical examination data using matplotlib, seaborn, and pandas. The dataset contains valuable information collected during medical examinations, covering aspects such as body measurements, blood test results, and lifestyle choices. Our goal is to visualize this data, make insightful calculations, and unveil the relationships between cardiac disease, body metrics, blood markers, and lifestyle preferences."
   ]
  },
  {
   "cell_type": "markdown",
   "id": "59c18a53",
   "metadata": {},
   "source": [
    "### Key Data Analytics Objectives:\n",
    "- Visualize distinctions between individuals with and without cardiovascular disease concerning physical activity, alcohol intake, cholesterol, glucose, overweight, and smoking.\n",
    "- Construct a heatmap to reveal the correlation between a comprehensive set of variables including age, gender, height, weight, systolic and diastolic blood pressure, cholesterol, glucose, smoking, alcohol intake, physical activity, presence or absence of cardiovascular disease, and overweight."
   ]
  },
  {
   "cell_type": "markdown",
   "id": "04e75dd9",
   "metadata": {},
   "source": [
    "### Dataset and Library:"
   ]
  },
  {
   "cell_type": "code",
   "execution_count": 15,
   "id": "d1fd406e",
   "metadata": {},
   "outputs": [
    {
     "data": {
      "text/html": [
       "<div>\n",
       "<style scoped>\n",
       "    .dataframe tbody tr th:only-of-type {\n",
       "        vertical-align: middle;\n",
       "    }\n",
       "\n",
       "    .dataframe tbody tr th {\n",
       "        vertical-align: top;\n",
       "    }\n",
       "\n",
       "    .dataframe thead th {\n",
       "        text-align: right;\n",
       "    }\n",
       "</style>\n",
       "<table border=\"1\" class=\"dataframe\">\n",
       "  <thead>\n",
       "    <tr style=\"text-align: right;\">\n",
       "      <th></th>\n",
       "      <th>id</th>\n",
       "      <th>age</th>\n",
       "      <th>sex</th>\n",
       "      <th>height</th>\n",
       "      <th>weight</th>\n",
       "      <th>ap_hi</th>\n",
       "      <th>ap_lo</th>\n",
       "      <th>cholesterol</th>\n",
       "      <th>gluc</th>\n",
       "      <th>smoke</th>\n",
       "      <th>alco</th>\n",
       "      <th>active</th>\n",
       "      <th>cardio</th>\n",
       "    </tr>\n",
       "  </thead>\n",
       "  <tbody>\n",
       "    <tr>\n",
       "      <th>0</th>\n",
       "      <td>0</td>\n",
       "      <td>18393</td>\n",
       "      <td>2</td>\n",
       "      <td>168</td>\n",
       "      <td>62.0</td>\n",
       "      <td>110</td>\n",
       "      <td>80</td>\n",
       "      <td>1</td>\n",
       "      <td>1</td>\n",
       "      <td>0</td>\n",
       "      <td>0</td>\n",
       "      <td>1</td>\n",
       "      <td>0</td>\n",
       "    </tr>\n",
       "    <tr>\n",
       "      <th>1</th>\n",
       "      <td>1</td>\n",
       "      <td>20228</td>\n",
       "      <td>1</td>\n",
       "      <td>156</td>\n",
       "      <td>85.0</td>\n",
       "      <td>140</td>\n",
       "      <td>90</td>\n",
       "      <td>3</td>\n",
       "      <td>1</td>\n",
       "      <td>0</td>\n",
       "      <td>0</td>\n",
       "      <td>1</td>\n",
       "      <td>1</td>\n",
       "    </tr>\n",
       "    <tr>\n",
       "      <th>2</th>\n",
       "      <td>2</td>\n",
       "      <td>18857</td>\n",
       "      <td>1</td>\n",
       "      <td>165</td>\n",
       "      <td>64.0</td>\n",
       "      <td>130</td>\n",
       "      <td>70</td>\n",
       "      <td>3</td>\n",
       "      <td>1</td>\n",
       "      <td>0</td>\n",
       "      <td>0</td>\n",
       "      <td>0</td>\n",
       "      <td>1</td>\n",
       "    </tr>\n",
       "    <tr>\n",
       "      <th>3</th>\n",
       "      <td>3</td>\n",
       "      <td>17623</td>\n",
       "      <td>2</td>\n",
       "      <td>169</td>\n",
       "      <td>82.0</td>\n",
       "      <td>150</td>\n",
       "      <td>100</td>\n",
       "      <td>1</td>\n",
       "      <td>1</td>\n",
       "      <td>0</td>\n",
       "      <td>0</td>\n",
       "      <td>1</td>\n",
       "      <td>1</td>\n",
       "    </tr>\n",
       "    <tr>\n",
       "      <th>4</th>\n",
       "      <td>4</td>\n",
       "      <td>17474</td>\n",
       "      <td>1</td>\n",
       "      <td>156</td>\n",
       "      <td>56.0</td>\n",
       "      <td>100</td>\n",
       "      <td>60</td>\n",
       "      <td>1</td>\n",
       "      <td>1</td>\n",
       "      <td>0</td>\n",
       "      <td>0</td>\n",
       "      <td>0</td>\n",
       "      <td>0</td>\n",
       "    </tr>\n",
       "    <tr>\n",
       "      <th>...</th>\n",
       "      <td>...</td>\n",
       "      <td>...</td>\n",
       "      <td>...</td>\n",
       "      <td>...</td>\n",
       "      <td>...</td>\n",
       "      <td>...</td>\n",
       "      <td>...</td>\n",
       "      <td>...</td>\n",
       "      <td>...</td>\n",
       "      <td>...</td>\n",
       "      <td>...</td>\n",
       "      <td>...</td>\n",
       "      <td>...</td>\n",
       "    </tr>\n",
       "    <tr>\n",
       "      <th>69995</th>\n",
       "      <td>99993</td>\n",
       "      <td>19240</td>\n",
       "      <td>2</td>\n",
       "      <td>168</td>\n",
       "      <td>76.0</td>\n",
       "      <td>120</td>\n",
       "      <td>80</td>\n",
       "      <td>1</td>\n",
       "      <td>1</td>\n",
       "      <td>1</td>\n",
       "      <td>0</td>\n",
       "      <td>1</td>\n",
       "      <td>0</td>\n",
       "    </tr>\n",
       "    <tr>\n",
       "      <th>69996</th>\n",
       "      <td>99995</td>\n",
       "      <td>22601</td>\n",
       "      <td>1</td>\n",
       "      <td>158</td>\n",
       "      <td>126.0</td>\n",
       "      <td>140</td>\n",
       "      <td>90</td>\n",
       "      <td>2</td>\n",
       "      <td>2</td>\n",
       "      <td>0</td>\n",
       "      <td>0</td>\n",
       "      <td>1</td>\n",
       "      <td>1</td>\n",
       "    </tr>\n",
       "    <tr>\n",
       "      <th>69997</th>\n",
       "      <td>99996</td>\n",
       "      <td>19066</td>\n",
       "      <td>2</td>\n",
       "      <td>183</td>\n",
       "      <td>105.0</td>\n",
       "      <td>180</td>\n",
       "      <td>90</td>\n",
       "      <td>3</td>\n",
       "      <td>1</td>\n",
       "      <td>0</td>\n",
       "      <td>1</td>\n",
       "      <td>0</td>\n",
       "      <td>1</td>\n",
       "    </tr>\n",
       "    <tr>\n",
       "      <th>69998</th>\n",
       "      <td>99998</td>\n",
       "      <td>22431</td>\n",
       "      <td>1</td>\n",
       "      <td>163</td>\n",
       "      <td>72.0</td>\n",
       "      <td>135</td>\n",
       "      <td>80</td>\n",
       "      <td>1</td>\n",
       "      <td>2</td>\n",
       "      <td>0</td>\n",
       "      <td>0</td>\n",
       "      <td>0</td>\n",
       "      <td>1</td>\n",
       "    </tr>\n",
       "    <tr>\n",
       "      <th>69999</th>\n",
       "      <td>99999</td>\n",
       "      <td>20540</td>\n",
       "      <td>1</td>\n",
       "      <td>170</td>\n",
       "      <td>72.0</td>\n",
       "      <td>120</td>\n",
       "      <td>80</td>\n",
       "      <td>2</td>\n",
       "      <td>1</td>\n",
       "      <td>0</td>\n",
       "      <td>0</td>\n",
       "      <td>1</td>\n",
       "      <td>0</td>\n",
       "    </tr>\n",
       "  </tbody>\n",
       "</table>\n",
       "<p>70000 rows × 13 columns</p>\n",
       "</div>"
      ],
      "text/plain": [
       "          id    age  sex  height  weight  ap_hi  ap_lo  cholesterol  gluc  \\\n",
       "0          0  18393    2     168    62.0    110     80            1     1   \n",
       "1          1  20228    1     156    85.0    140     90            3     1   \n",
       "2          2  18857    1     165    64.0    130     70            3     1   \n",
       "3          3  17623    2     169    82.0    150    100            1     1   \n",
       "4          4  17474    1     156    56.0    100     60            1     1   \n",
       "...      ...    ...  ...     ...     ...    ...    ...          ...   ...   \n",
       "69995  99993  19240    2     168    76.0    120     80            1     1   \n",
       "69996  99995  22601    1     158   126.0    140     90            2     2   \n",
       "69997  99996  19066    2     183   105.0    180     90            3     1   \n",
       "69998  99998  22431    1     163    72.0    135     80            1     2   \n",
       "69999  99999  20540    1     170    72.0    120     80            2     1   \n",
       "\n",
       "       smoke  alco  active  cardio  \n",
       "0          0     0       1       0  \n",
       "1          0     0       1       1  \n",
       "2          0     0       0       1  \n",
       "3          0     0       1       1  \n",
       "4          0     0       0       0  \n",
       "...      ...   ...     ...     ...  \n",
       "69995      1     0       1       0  \n",
       "69996      0     0       1       1  \n",
       "69997      0     1       0       1  \n",
       "69998      0     0       0       1  \n",
       "69999      0     0       1       0  \n",
       "\n",
       "[70000 rows x 13 columns]"
      ]
     },
     "execution_count": 15,
     "metadata": {},
     "output_type": "execute_result"
    }
   ],
   "source": [
    "import pandas as pd\n",
    "import numpy as np\n",
    "import seaborn as sns\n",
    "import matplotlib.pyplot as plt\n",
    "\n",
    "df = pd.read_csv('medical_examination.csv')\n",
    "df"
   ]
  },
  {
   "cell_type": "markdown",
   "id": "cb45d9db",
   "metadata": {},
   "source": [
    "### Solution 1:"
   ]
  },
  {
   "cell_type": "markdown",
   "id": "c71a1078",
   "metadata": {},
   "source": [
    "Defining overweight and normalizing glucose and cholesterol numbers"
   ]
  },
  {
   "cell_type": "code",
   "execution_count": 16,
   "id": "0963da63",
   "metadata": {},
   "outputs": [],
   "source": [
    "df.loc[df['weight']/(df['height']/100)**2 <= 25, 'overweight'] = 0\n",
    "df.loc[df['weight']/(df['height']/100)**2 > 25, 'overweight'] = 1\n",
    "\n",
    "\n",
    "df.loc[df['cholesterol'] <= 1 , 'cholesterol'] = 0\n",
    "df.loc[df['cholesterol'] > 1 , 'cholesterol'] = 1\n",
    "df.loc[df['gluc'] <= 1 , 'gluc'] = 0\n",
    "df.loc[df['gluc'] > 1 , 'gluc'] = 1"
   ]
  },
  {
   "cell_type": "markdown",
   "id": "4327279c",
   "metadata": {},
   "source": [
    "Preparing the df_cat table ready for visualization use"
   ]
  },
  {
   "cell_type": "code",
   "execution_count": 17,
   "id": "e2b014f7",
   "metadata": {},
   "outputs": [
    {
     "data": {
      "text/html": [
       "<div>\n",
       "<style scoped>\n",
       "    .dataframe tbody tr th:only-of-type {\n",
       "        vertical-align: middle;\n",
       "    }\n",
       "\n",
       "    .dataframe tbody tr th {\n",
       "        vertical-align: top;\n",
       "    }\n",
       "\n",
       "    .dataframe thead th {\n",
       "        text-align: right;\n",
       "    }\n",
       "</style>\n",
       "<table border=\"1\" class=\"dataframe\">\n",
       "  <thead>\n",
       "    <tr style=\"text-align: right;\">\n",
       "      <th></th>\n",
       "      <th>cardio</th>\n",
       "      <th>variable</th>\n",
       "      <th>value</th>\n",
       "      <th>Total</th>\n",
       "    </tr>\n",
       "  </thead>\n",
       "  <tbody>\n",
       "    <tr>\n",
       "      <th>0</th>\n",
       "      <td>0</td>\n",
       "      <td>active</td>\n",
       "      <td>1.0</td>\n",
       "      <td>28643.0</td>\n",
       "    </tr>\n",
       "    <tr>\n",
       "      <th>46658</th>\n",
       "      <td>0</td>\n",
       "      <td>active</td>\n",
       "      <td>1.0</td>\n",
       "      <td>28643.0</td>\n",
       "    </tr>\n",
       "    <tr>\n",
       "      <th>46659</th>\n",
       "      <td>0</td>\n",
       "      <td>active</td>\n",
       "      <td>1.0</td>\n",
       "      <td>28643.0</td>\n",
       "    </tr>\n",
       "    <tr>\n",
       "      <th>46660</th>\n",
       "      <td>1</td>\n",
       "      <td>active</td>\n",
       "      <td>1.0</td>\n",
       "      <td>27618.0</td>\n",
       "    </tr>\n",
       "    <tr>\n",
       "      <th>46661</th>\n",
       "      <td>0</td>\n",
       "      <td>active</td>\n",
       "      <td>0.0</td>\n",
       "      <td>6378.0</td>\n",
       "    </tr>\n",
       "    <tr>\n",
       "      <th>...</th>\n",
       "      <td>...</td>\n",
       "      <td>...</td>\n",
       "      <td>...</td>\n",
       "      <td>...</td>\n",
       "    </tr>\n",
       "    <tr>\n",
       "      <th>373329</th>\n",
       "      <td>0</td>\n",
       "      <td>smoke</td>\n",
       "      <td>0.0</td>\n",
       "      <td>31781.0</td>\n",
       "    </tr>\n",
       "    <tr>\n",
       "      <th>373328</th>\n",
       "      <td>1</td>\n",
       "      <td>smoke</td>\n",
       "      <td>0.0</td>\n",
       "      <td>32050.0</td>\n",
       "    </tr>\n",
       "    <tr>\n",
       "      <th>373327</th>\n",
       "      <td>1</td>\n",
       "      <td>smoke</td>\n",
       "      <td>0.0</td>\n",
       "      <td>32050.0</td>\n",
       "    </tr>\n",
       "    <tr>\n",
       "      <th>373333</th>\n",
       "      <td>1</td>\n",
       "      <td>smoke</td>\n",
       "      <td>0.0</td>\n",
       "      <td>32050.0</td>\n",
       "    </tr>\n",
       "    <tr>\n",
       "      <th>419999</th>\n",
       "      <td>0</td>\n",
       "      <td>smoke</td>\n",
       "      <td>0.0</td>\n",
       "      <td>31781.0</td>\n",
       "    </tr>\n",
       "  </tbody>\n",
       "</table>\n",
       "<p>420000 rows × 4 columns</p>\n",
       "</div>"
      ],
      "text/plain": [
       "        cardio variable  value    Total\n",
       "0            0   active    1.0  28643.0\n",
       "46658        0   active    1.0  28643.0\n",
       "46659        0   active    1.0  28643.0\n",
       "46660        1   active    1.0  27618.0\n",
       "46661        0   active    0.0   6378.0\n",
       "...        ...      ...    ...      ...\n",
       "373329       0    smoke    0.0  31781.0\n",
       "373328       1    smoke    0.0  32050.0\n",
       "373327       1    smoke    0.0  32050.0\n",
       "373333       1    smoke    0.0  32050.0\n",
       "419999       0    smoke    0.0  31781.0\n",
       "\n",
       "[420000 rows x 4 columns]"
      ]
     },
     "execution_count": 17,
     "metadata": {},
     "output_type": "execute_result"
    }
   ],
   "source": [
    "df_cat = pd.melt(df, id_vars =['cardio'], \n",
    "                 value_vars =['active','alco','cholesterol', \n",
    "                              'gluc','overweight','smoke'])\n",
    "\n",
    "# calculating each variables of presence or absence of cardiovascular\n",
    "df_cat.loc[(df_cat['cardio'] == 0) & (df_cat['variable'] == 'active') \n",
    "           & (df_cat['value'] == 1), 'Total'] = len(df_cat[(df_cat['cardio'] == 0) \n",
    "            & (df_cat['variable'] == 'active') & (df_cat['value'] == 1)])\n",
    "df_cat.loc[(df_cat['cardio'] == 0) & (df_cat['variable'] == 'active') \n",
    "           & (df_cat['value'] == 0), 'Total'] = len(df_cat[(df_cat['cardio'] == 0) \n",
    "            & (df_cat['variable'] == 'active') & (df_cat['value'] == 0)])\n",
    "df_cat.loc[(df_cat['cardio'] == 0) & (df_cat['variable'] == 'alco') \n",
    "           & (df_cat['value'] == 1), 'Total'] = len(df_cat[(df_cat['cardio'] == 0) \n",
    "            & (df_cat['variable'] == 'alco') & (df_cat['value'] == 1)])\n",
    "df_cat.loc[(df_cat['cardio'] == 0) & (df_cat['variable'] == 'alco') \n",
    "           & (df_cat['value'] == 0), 'Total'] = len(df_cat[(df_cat['cardio'] == 0) \n",
    "            & (df_cat['variable'] == 'alco') & (df_cat['value'] == 0)])\n",
    "df_cat.loc[(df_cat['cardio'] == 0) & (df_cat['variable'] == 'cholesterol') \n",
    "           & (df_cat['value'] == 1), 'Total'] = len(df_cat[(df_cat['cardio'] == 0) \n",
    "            & (df_cat['variable'] == 'cholesterol') & (df_cat['value'] == 1)])\n",
    "df_cat.loc[(df_cat['cardio'] == 0) & (df_cat['variable'] == 'cholesterol')\n",
    "           & (df_cat['value'] == 0), 'Total'] = len(df_cat[(df_cat['cardio'] == 0) \n",
    "            & (df_cat['variable'] == 'cholesterol') & (df_cat['value'] == 0)])\n",
    "df_cat.loc[(df_cat['cardio'] == 0) & (df_cat['variable'] == 'gluc') \n",
    "           & (df_cat['value'] == 1), 'Total'] = len(df_cat[(df_cat['cardio'] == 0) \n",
    "            & (df_cat['variable'] == 'gluc') & (df_cat['value'] == 1)])\n",
    "df_cat.loc[(df_cat['cardio'] == 0) & (df_cat['variable'] == 'gluc') \n",
    "           & (df_cat['value'] == 0), 'Total'] = len(df_cat[(df_cat['cardio'] == 0) \n",
    "            & (df_cat['variable'] == 'gluc') & (df_cat['value'] == 0)])\n",
    "df_cat.loc[(df_cat['cardio'] == 0) & (df_cat['variable'] == 'overweight') \n",
    "           & (df_cat['value'] == 1), 'Total'] = len(df_cat[(df_cat['cardio'] == 0) \n",
    "            & (df_cat['variable'] == 'overweight') & (df_cat['value'] == 1)])\n",
    "df_cat.loc[(df_cat['cardio'] == 0) & (df_cat['variable'] == 'overweight') \n",
    "           & (df_cat['value'] == 0), 'Total'] = len(df_cat[(df_cat['cardio'] == 0) \n",
    "            & (df_cat['variable'] == 'overweight') & (df_cat['value'] == 0)])\n",
    "df_cat.loc[(df_cat['cardio'] == 0) & (df_cat['variable'] == 'smoke') \n",
    "           & (df_cat['value'] == 1), 'Total'] = len(df_cat[(df_cat['cardio'] == 0) \n",
    "            & (df_cat['variable'] == 'smoke') & (df_cat['value'] == 1)])\n",
    "df_cat.loc[(df_cat['cardio'] == 0) & (df_cat['variable'] == 'smoke') \n",
    "           & (df_cat['value'] == 0), 'Total'] = len(df_cat[(df_cat['cardio'] == 0) \n",
    "            & (df_cat['variable'] == 'smoke') & (df_cat['value'] == 0)])\n",
    "\n",
    "\n",
    "df_cat.loc[(df_cat['cardio'] == 1) & (df_cat['variable'] == 'active') \n",
    "           & (df_cat['value'] == 1), 'Total'] = len(df_cat[(df_cat['cardio'] == 1) \n",
    "            & (df_cat['variable'] == 'active') & (df_cat['value'] == 1)])\n",
    "df_cat.loc[(df_cat['cardio'] == 1) & (df_cat['variable'] == 'active') \n",
    "           & (df_cat['value'] == 0), 'Total'] = len(df_cat[(df_cat['cardio'] == 1) \n",
    "            & (df_cat['variable'] == 'active') & (df_cat['value'] == 0)])\n",
    "df_cat.loc[(df_cat['cardio'] == 1) & (df_cat['variable'] == 'alco') \n",
    "           & (df_cat['value'] == 1), 'Total'] = len(df_cat[(df_cat['cardio'] == 1) \n",
    "            & (df_cat['variable'] == 'alco') & (df_cat['value'] == 1)])\n",
    "df_cat.loc[(df_cat['cardio'] == 1) & (df_cat['variable'] == 'alco') \n",
    "           & (df_cat['value'] == 0), 'Total'] = len(df_cat[(df_cat['cardio'] == 1) \n",
    "            & (df_cat['variable'] == 'alco') & (df_cat['value'] == 0)])\n",
    "df_cat.loc[(df_cat['cardio'] == 1) & (df_cat['variable'] == 'cholesterol') \n",
    "           & (df_cat['value'] == 1), 'Total'] = len(df_cat[(df_cat['cardio'] == 1) \n",
    "            & (df_cat['variable'] == 'cholesterol') & (df_cat['value'] == 1)])\n",
    "df_cat.loc[(df_cat['cardio'] == 1) & (df_cat['variable'] == 'cholesterol') \n",
    "           & (df_cat['value'] == 0), 'Total'] = len(df_cat[(df_cat['cardio'] == 1) \n",
    "            & (df_cat['variable'] == 'cholesterol') & (df_cat['value'] == 0)])\n",
    "df_cat.loc[(df_cat['cardio'] == 1) & (df_cat['variable'] == 'gluc') \n",
    "           & (df_cat['value'] == 1), 'Total'] = len(df_cat[(df_cat['cardio'] == 1) \n",
    "            & (df_cat['variable'] == 'gluc') & (df_cat['value'] == 1)])\n",
    "df_cat.loc[(df_cat['cardio'] == 1) & (df_cat['variable'] == 'gluc') \n",
    "           & (df_cat['value'] == 0), 'Total'] = len(df_cat[(df_cat['cardio'] == 1) \n",
    "            & (df_cat['variable'] == 'gluc') & (df_cat['value'] == 0)])\n",
    "df_cat.loc[(df_cat['cardio'] == 1) & (df_cat['variable'] == 'overweight') \n",
    "           & (df_cat['value'] == 1), 'Total'] = len(df_cat[(df_cat['cardio'] == 1) \n",
    "            & (df_cat['variable'] == 'overweight') & (df_cat['value'] == 1)])\n",
    "df_cat.loc[(df_cat['cardio'] == 1) & (df_cat['variable'] == 'overweight') \n",
    "           & (df_cat['value'] == 0), 'Total'] = len(df_cat[(df_cat['cardio'] == 1) \n",
    "            & (df_cat['variable'] == 'overweight') & (df_cat['value'] == 0)])\n",
    "df_cat.loc[(df_cat['cardio'] == 1) & (df_cat['variable'] == 'smoke') \n",
    "           & (df_cat['value'] == 1), 'Total'] = len(df_cat[(df_cat['cardio'] == 1) \n",
    "            & (df_cat['variable'] == 'smoke') & (df_cat['value'] == 1)])\n",
    "df_cat.loc[(df_cat['cardio'] == 1) & (df_cat['variable'] == 'smoke') \n",
    "           & (df_cat['value'] == 0), 'Total'] = len(df_cat[(df_cat['cardio'] == 1) \n",
    "            & (df_cat['variable'] == 'smoke') & (df_cat['value'] == 0)])\n",
    "\n",
    "df_cat.sort_values(by=['variable'])"
   ]
  },
  {
   "cell_type": "markdown",
   "id": "43112d0e",
   "metadata": {},
   "source": [
    "### Objective 1:"
   ]
  },
  {
   "cell_type": "code",
   "execution_count": 18,
   "id": "4080baa2",
   "metadata": {
    "scrolled": false
   },
   "outputs": [
    {
     "data": {
      "text/plain": [
       "<seaborn.axisgrid.FacetGrid at 0x1974c86d1d0>"
      ]
     },
     "execution_count": 18,
     "metadata": {},
     "output_type": "execute_result"
    },
    {
     "data": {
      "image/png": "[encoded data removed]",
      "text/plain": [
       "<Figure size 1072.12x500 with 2 Axes>"
      ]
     },
     "metadata": {},
     "output_type": "display_data"
    }
   ],
   "source": [
    "sns.catplot(data=df_cat, x='variable',y='Total', hue = 'value',col='cardio',kind='bar')"
   ]
  },
  {
   "cell_type": "markdown",
   "id": "af6fa47e",
   "metadata": {},
   "source": [
    "### Insights 1:"
   ]
  },
  {
   "cell_type": "markdown",
   "id": "04236b0a",
   "metadata": {},
   "source": [
    "##### Individuals with cardiovascular disease are more likely to exhibit elevated cholesterol and glucose levels compared to those without the disease."
   ]
  },
  {
   "cell_type": "markdown",
   "id": "c29d6107",
   "metadata": {},
   "source": [
    "### Solution 2:"
   ]
  },
  {
   "cell_type": "markdown",
   "id": "2eeb8ae8",
   "metadata": {},
   "source": [
    "Data cleaning for height column"
   ]
  },
  {
   "cell_type": "code",
   "execution_count": 19,
   "id": "6439826e",
   "metadata": {},
   "outputs": [],
   "source": [
    "df_heat = df[(df['ap_lo'] <= df['ap_hi'])\n",
    "   & (df['height'] >= df['height'].quantile(0.025))\n",
    "   & (df['height'] <= df['height'].quantile(0.975))\n",
    "   & (df['weight'] >= df['weight'].quantile(0.025))\n",
    "   & (df['weight'] <= df['weight'].quantile(0.975))\n",
    "  ]"
   ]
  },
  {
   "cell_type": "markdown",
   "id": "d2152ddc",
   "metadata": {},
   "source": [
    "Making the table of correlations matrix for each variable and Generating a mask for the upper triangle matrix"
   ]
  },
  {
   "cell_type": "code",
   "execution_count": 20,
   "id": "caa8236e",
   "metadata": {},
   "outputs": [],
   "source": [
    "df.corr()\n",
    "\n",
    "df.rename(columns={\"sex\": \"gender\"})\n",
    "mask = np.triu(np.ones_like(df_heat.corr()))"
   ]
  },
  {
   "cell_type": "markdown",
   "id": "c5d1d23b",
   "metadata": {},
   "source": [
    "### Objective 2:"
   ]
  },
  {
   "cell_type": "code",
   "execution_count": 21,
   "id": "56d26774",
   "metadata": {
    "scrolled": false
   },
   "outputs": [
    {
     "data": {
      "text/plain": [
       "<Axes: >"
      ]
     },
     "execution_count": 21,
     "metadata": {},
     "output_type": "execute_result"
    },
    {
     "data": {
      "image/png": "[encoded data removed]",
      "text/plain": [
       "<Figure size 600x600 with 2 Axes>"
      ]
     },
     "metadata": {},
     "output_type": "display_data"
    }
   ],
   "source": [
    "fig, ax = plt.subplots(figsize=(6, 6))\n",
    "sns.heatmap(df_heat.corr().round(1), mask=mask,linewidths=0.5, linecolor= \"white\",vmin=-0.2, vmax=0.3 , center = 0, annot = True, cbar_kws={\"shrink\": 0.5})"
   ]
  },
  {
   "cell_type": "markdown",
   "id": "6e7cc1c2",
   "metadata": {},
   "source": [
    "### Insights 2:"
   ]
  },
  {
   "cell_type": "markdown",
   "id": "27493d9c",
   "metadata": {},
   "source": [
    "##### Weight and overweight exhibit a very strong positive correlation, representing the highest correlation within the variables. Additionally, cholesterol and glucose levels demonstrate a moderate positive correlation."
   ]
  }
 ],
 "metadata": {
  "kernelspec": {
   "display_name": "Python 3 (ipykernel)",
   "language": "python",
   "name": "python3"
  },
  "language_info": {
   "codemirror_mode": {
    "name": "ipython",
    "version": 3
   },
   "file_extension": ".py",
   "mimetype": "text/x-python",
   "name": "python",
   "nbconvert_exporter": "python",
   "pygments_lexer": "ipython3",
   "version": "3.11.3"
  }
 },
 "nbformat": 4,
 "nbformat_minor": 5
}
